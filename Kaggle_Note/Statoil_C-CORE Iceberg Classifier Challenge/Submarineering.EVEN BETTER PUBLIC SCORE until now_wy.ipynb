{
 "cells": [
  {
   "cell_type": "code",
   "execution_count": 7,
   "metadata": {},
   "outputs": [],
   "source": [
    "import os\n",
    "import numpy as np\n",
    "import pandas as pd\n",
    "\n",
    "#from subprocess import check_output\n",
    "#print(check_output(['ls', '/iceberg/processed']).decode('utf8'))"
   ]
  },
  {
   "cell_type": "markdown",
   "metadata": {},
   "source": [
    "## Credits to the following awesome authors and kernels\n",
    "\n",
    "Author: QuantScientist\n",
    "\n",
    "File: sub_200_ens_densenet.csv\n",
    "\n",
    "Link: https://www.kaggle.com/solomonk/pytorch-cnn-densenet-ensemble-lb-0-1538\n",
    "\n",
    "Author: wvadim\n",
    "\n",
    "File: sub_TF_keras.csv\n",
    "\n",
    "Link: https://www.kaggle.com/wvadim/keras-tf-lb-0-18\n",
    "\n",
    "Author: Ed Miller\n",
    "\n",
    "File: sub_fcn.csv\n",
    "\n",
    "Link: https://www.kaggle.com/bluevalhalla/fully-convolutional-network-lb-0-193\n",
    "\n",
    "Author: Chia-Ta Tsai\n",
    "\n",
    "File: sub_blend009.csv\n",
    "\n",
    "Link: https://www.kaggle.com/cttsai/ensembling-gbms-lb-203\n",
    "\n",
    "Author: DeveshMaheshwari\n",
    "\n",
    "File: sub_keras_beginner.csv\n",
    "\n",
    "Link: https://www.kaggle.com/devm2024/keras-model-for-beginners-0-210-on-lb-eda-r-d\n",
    "\n",
    "Author: Submarineering\n",
    "\n",
    "Files: submission38.csv , submission43.csv\n",
    "\n",
    "Link : https://www.kaggle.com/submarineering/submission38-lb01448\n",
    "\n",
    "Without their truly dedicated efforts, this notebook will not be possible."
   ]
  },
  {
   "cell_type": "code",
   "execution_count": 10,
   "metadata": {},
   "outputs": [
    {
     "data": {
      "text/plain": [
       "['test.json', 'train.json', 'submission38.csv', 'submission42.csv']"
      ]
     },
     "execution_count": 10,
     "metadata": {},
     "output_type": "execute_result"
    }
   ],
   "source": [
    "sub_path = 'iceberg/processed'\n",
    "all_files =os.listdir(sub_path)\n",
    "all_files = all_files[1:3]\n",
    "all_files.append('submission38.csv')\n",
    "all_files.append('submission42.csv')\n",
    "all_files"
   ]
  },
  {
   "cell_type": "code",
   "execution_count": 13,
   "metadata": {},
   "outputs": [
    {
     "data": {
      "text/html": [
       "<div>\n",
       "<style scoped>\n",
       "    .dataframe tbody tr th:only-of-type {\n",
       "        vertical-align: middle;\n",
       "    }\n",
       "\n",
       "    .dataframe tbody tr th {\n",
       "        vertical-align: top;\n",
       "    }\n",
       "\n",
       "    .dataframe thead th {\n",
       "        text-align: right;\n",
       "    }\n",
       "</style>\n",
       "<table border=\"1\" class=\"dataframe\">\n",
       "  <thead>\n",
       "    <tr style=\"text-align: right;\">\n",
       "      <th></th>\n",
       "      <th>id</th>\n",
       "      <th>is_iceberg_0</th>\n",
       "      <th>is_iceberg_1</th>\n",
       "      <th>is_iceberg_2</th>\n",
       "      <th>is_iceberg_3</th>\n",
       "    </tr>\n",
       "  </thead>\n",
       "  <tbody>\n",
       "    <tr>\n",
       "      <td>0</td>\n",
       "      <td>5941774d</td>\n",
       "      <td>1.943216e-02</td>\n",
       "      <td>0.005586</td>\n",
       "      <td>0.008875</td>\n",
       "      <td>0.005586</td>\n",
       "    </tr>\n",
       "    <tr>\n",
       "      <td>1</td>\n",
       "      <td>4023181e</td>\n",
       "      <td>3.168809e-02</td>\n",
       "      <td>0.145927</td>\n",
       "      <td>0.146779</td>\n",
       "      <td>0.031688</td>\n",
       "    </tr>\n",
       "    <tr>\n",
       "      <td>2</td>\n",
       "      <td>b20200e4</td>\n",
       "      <td>4.000000e-08</td>\n",
       "      <td>0.000015</td>\n",
       "      <td>0.048646</td>\n",
       "      <td>0.001000</td>\n",
       "    </tr>\n",
       "    <tr>\n",
       "      <td>3</td>\n",
       "      <td>e7f018bb</td>\n",
       "      <td>9.925741e-01</td>\n",
       "      <td>0.999914</td>\n",
       "      <td>0.999184</td>\n",
       "      <td>0.999000</td>\n",
       "    </tr>\n",
       "    <tr>\n",
       "      <td>4</td>\n",
       "      <td>4371c8c3</td>\n",
       "      <td>2.215107e-02</td>\n",
       "      <td>0.033843</td>\n",
       "      <td>0.277251</td>\n",
       "      <td>0.022151</td>\n",
       "    </tr>\n",
       "  </tbody>\n",
       "</table>\n",
       "</div>"
      ],
      "text/plain": [
       "         id  is_iceberg_0  is_iceberg_1  is_iceberg_2  is_iceberg_3\n",
       "0  5941774d  1.943216e-02      0.005586      0.008875      0.005586\n",
       "1  4023181e  3.168809e-02      0.145927      0.146779      0.031688\n",
       "2  b20200e4  4.000000e-08      0.000015      0.048646      0.001000\n",
       "3  e7f018bb  9.925741e-01      0.999914      0.999184      0.999000\n",
       "4  4371c8c3  2.215107e-02      0.033843      0.277251      0.022151"
      ]
     },
     "execution_count": 13,
     "metadata": {},
     "output_type": "execute_result"
    }
   ],
   "source": [
    "# Read and concatenate submissions\n",
    "out1 = pd.read_csv(\"iceberg/processed/sub_200_ens_densenet.csv\", index_col=0)\n",
    "out2 = pd.read_csv(\"iceberg/processed/sub_TF_keras.csv\", index_col=0)\n",
    "out3 = pd.read_csv(\"iceberg/processed/submission38.csv\", index_col=0)\n",
    "out4 = pd.read_csv(\"iceberg/processed/submission43.csv\", index_col=0)\n",
    "concat_sub = pd.concat([out1, out2, out3, out4], axis=1)\n",
    "cols = list(map(lambda x: \"is_iceberg_\" + str(x), range(len(concat_sub.columns))))\n",
    "concat_sub.columns = cols\n",
    "concat_sub.reset_index(inplace=True)\n",
    "concat_sub.head()"
   ]
  },
  {
   "cell_type": "code",
   "execution_count": 14,
   "metadata": {},
   "outputs": [
    {
     "data": {
      "text/html": [
       "<div>\n",
       "<style scoped>\n",
       "    .dataframe tbody tr th:only-of-type {\n",
       "        vertical-align: middle;\n",
       "    }\n",
       "\n",
       "    .dataframe tbody tr th {\n",
       "        vertical-align: top;\n",
       "    }\n",
       "\n",
       "    .dataframe thead th {\n",
       "        text-align: right;\n",
       "    }\n",
       "</style>\n",
       "<table border=\"1\" class=\"dataframe\">\n",
       "  <thead>\n",
       "    <tr style=\"text-align: right;\">\n",
       "      <th></th>\n",
       "      <th>is_iceberg_0</th>\n",
       "      <th>is_iceberg_1</th>\n",
       "      <th>is_iceberg_2</th>\n",
       "      <th>is_iceberg_3</th>\n",
       "    </tr>\n",
       "  </thead>\n",
       "  <tbody>\n",
       "    <tr>\n",
       "      <td>is_iceberg_0</td>\n",
       "      <td>1.000000</td>\n",
       "      <td>0.890434</td>\n",
       "      <td>0.986291</td>\n",
       "      <td>0.994880</td>\n",
       "    </tr>\n",
       "    <tr>\n",
       "      <td>is_iceberg_1</td>\n",
       "      <td>0.890434</td>\n",
       "      <td>1.000000</td>\n",
       "      <td>0.923848</td>\n",
       "      <td>0.900871</td>\n",
       "    </tr>\n",
       "    <tr>\n",
       "      <td>is_iceberg_2</td>\n",
       "      <td>0.986291</td>\n",
       "      <td>0.923848</td>\n",
       "      <td>1.000000</td>\n",
       "      <td>0.988002</td>\n",
       "    </tr>\n",
       "    <tr>\n",
       "      <td>is_iceberg_3</td>\n",
       "      <td>0.994880</td>\n",
       "      <td>0.900871</td>\n",
       "      <td>0.988002</td>\n",
       "      <td>1.000000</td>\n",
       "    </tr>\n",
       "  </tbody>\n",
       "</table>\n",
       "</div>"
      ],
      "text/plain": [
       "              is_iceberg_0  is_iceberg_1  is_iceberg_2  is_iceberg_3\n",
       "is_iceberg_0      1.000000      0.890434      0.986291      0.994880\n",
       "is_iceberg_1      0.890434      1.000000      0.923848      0.900871\n",
       "is_iceberg_2      0.986291      0.923848      1.000000      0.988002\n",
       "is_iceberg_3      0.994880      0.900871      0.988002      1.000000"
      ]
     },
     "execution_count": 14,
     "metadata": {},
     "output_type": "execute_result"
    }
   ],
   "source": [
    "concat_sub.corr()"
   ]
  },
  {
   "cell_type": "code",
   "execution_count": 15,
   "metadata": {},
   "outputs": [],
   "source": [
    "concat_sub['is_iceberg_max'] = concat_sub.iloc[:, 1:6].max(axis=1)\n",
    "concat_sub['is_iceberg_min'] = concat_sub.iloc[:, 1:6].min(axis=1)\n",
    "concat_sub['is_iceberg_mean'] = concat_sub.iloc[:, 1:6].mean(axis=1)\n",
    "concat_sub['is_iceberg_median'] = concat_sub.iloc[:, 1:6].median(axis=1)"
   ]
  },
  {
   "cell_type": "code",
   "execution_count": 16,
   "metadata": {},
   "outputs": [],
   "source": [
    "cutoff_lo = 0.8\n",
    "cutoff_hi = 0.2"
   ]
  },
  {
   "cell_type": "markdown",
   "metadata": {},
   "source": [
    "## Mean Stacking"
   ]
  },
  {
   "cell_type": "code",
   "execution_count": 17,
   "metadata": {},
   "outputs": [],
   "source": [
    "concat_sub['is_iceberg'] = concat_sub['is_iceberg_mean']\n",
    "concat_sub[['id', 'is_iceberg']].to_csv('stack_mean.csv', index=False, float_format='%.6f')"
   ]
  },
  {
   "cell_type": "markdown",
   "metadata": {},
   "source": [
    "## Median Stacking"
   ]
  },
  {
   "cell_type": "code",
   "execution_count": 18,
   "metadata": {},
   "outputs": [],
   "source": [
    "concat_sub['is_iceberg'] = concat_sub['is_iceberg_median']\n",
    "concat_sub[['id', 'is_iceberg']].to_csv('stack_median.csv', index=False, float_format='%.6f')"
   ]
  },
  {
   "cell_type": "markdown",
   "metadata": {},
   "source": [
    "## PushOut + Median Stacking"
   ]
  },
  {
   "cell_type": "code",
   "execution_count": 19,
   "metadata": {},
   "outputs": [],
   "source": [
    "concat_sub['is_iceberg'] = np.where(np.all(concat_sub.iloc[:,1:6] > cutoff_lo, axis=1), 1, \n",
    "                                    np.where(np.all(concat_sub.iloc[:,1:6] < cutoff_hi, axis=1),\n",
    "                                             0, concat_sub['is_iceberg_median']))\n",
    "concat_sub[['id', 'is_iceberg']].to_csv('stack_pushout_median.csv', \n",
    "                                        index=False, float_format='%.6f')"
   ]
  },
  {
   "cell_type": "markdown",
   "metadata": {},
   "source": [
    "## MinMax + Mean Stacking"
   ]
  },
  {
   "cell_type": "code",
   "execution_count": 20,
   "metadata": {},
   "outputs": [],
   "source": [
    "concat_sub['is_iceberg'] = np.where(np.all(concat_sub.iloc[:,1:6] > cutoff_lo, axis=1), \n",
    "                                    concat_sub['is_iceberg_max'], \n",
    "                                    np.where(np.all(concat_sub.iloc[:,1:6] < cutoff_hi, axis=1),\n",
    "                                             concat_sub['is_iceberg_min'], \n",
    "                                             concat_sub['is_iceberg_mean']))\n",
    "concat_sub[['id', 'is_iceberg']].to_csv('stack_minmax_mean.csv', \n",
    "                                        index=False, float_format='%.6f')"
   ]
  },
  {
   "cell_type": "markdown",
   "metadata": {},
   "source": [
    "## MinMax + Median Stacking\n",
    "\n"
   ]
  },
  {
   "cell_type": "code",
   "execution_count": 21,
   "metadata": {},
   "outputs": [],
   "source": [
    "concat_sub['is_iceberg'] = np.where(np.all(concat_sub.iloc[:,1:6] > cutoff_lo, axis=1), \n",
    "                                    concat_sub['is_iceberg_max'], \n",
    "                                    np.where(np.all(concat_sub.iloc[:,1:6] < cutoff_hi, axis=1),\n",
    "                                             concat_sub['is_iceberg_min'], \n",
    "                                             concat_sub['is_iceberg_median']))\n",
    "concat_sub['is_iceberg'] = np.clip(concat_sub['is_iceberg'].values, 0.001, 0.999)\n",
    "concat_sub[['id', 'is_iceberg']].to_csv('stack_minmax_median.csv', \n",
    "                                       index=False, float_format='%.6f')"
   ]
  },
  {
   "cell_type": "markdown",
   "metadata": {},
   "source": [
    "## MinMax + BestBase Stacking"
   ]
  },
  {
   "cell_type": "code",
   "execution_count": 22,
   "metadata": {},
   "outputs": [],
   "source": [
    "sub_base = pd.read_csv('iceberg/processed/submission43.csv')"
   ]
  },
  {
   "cell_type": "code",
   "execution_count": 23,
   "metadata": {},
   "outputs": [],
   "source": [
    "concat_sub['is_iceberg_base'] = sub_base['is_iceberg']\n",
    "concat_sub['is_iceberg'] = np.where(np.all(concat_sub.iloc[:,1:4]>cutoff_lo, axis=1),\n",
    "                                   concat_sub['is_iceberg_max'],np.where(np.all(concat_sub.iloc[:,1:4]<cutoff_hi,axis=1),concat_sub['is_iceberg_min'],concat_sub['is_iceberg_base']))\n",
    "concat_sub['is_iceberg'] = np.clip(concat_sub['is_iceberg'].values,0.001,0.999)\n",
    "concat_sub[['id','is_iceberg']].to_csv('submission54.csv',index=False,float_format='%.6f')"
   ]
  },
  {
   "cell_type": "code",
   "execution_count": null,
   "metadata": {},
   "outputs": [],
   "source": []
  }
 ],
 "metadata": {
  "kernelspec": {
   "display_name": "ku",
   "language": "python",
   "name": "ku"
  },
  "language_info": {
   "codemirror_mode": {
    "name": "ipython",
    "version": 3
   },
   "file_extension": ".py",
   "mimetype": "text/x-python",
   "name": "python",
   "nbconvert_exporter": "python",
   "pygments_lexer": "ipython3",
   "version": "3.7.2"
  }
 },
 "nbformat": 4,
 "nbformat_minor": 2
}
