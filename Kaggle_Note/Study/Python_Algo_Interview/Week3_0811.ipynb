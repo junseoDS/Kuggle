{
 "cells": [
  {
   "cell_type": "markdown",
   "metadata": {},
   "source": [
    "# 8장 연결 리스트\n",
    "\n",
    "## Q13 팰린드롬 연결 리스트 \n",
    "\n",
    "## Leetcode 234. Palindrom Linked List\n",
    "\n",
    "\n",
    "\n",
    "### Given a singly linked list, determine if it is a palindrome.\n",
    "\n",
    "Example 1:\n",
    "\n",
    "    Input: 1->2\n",
    "    Output: false\n",
    "    \n",
    "Example 2:\n",
    "\n",
    "    Input: 1->2->2->1\n",
    "    Output: true\n",
    "\n",
    "Follow up:\n",
    "\n",
    "Could you do it in O(n) time and O(1) space?"
   ]
  },
  {
   "cell_type": "code",
   "execution_count": 7,
   "metadata": {},
   "outputs": [],
   "source": [
    "# Definition for singly-linked list.\n",
    "class ListNode:\n",
    "     def __init__(self, val=0, next=None):\n",
    "         self.val = val\n",
    "         self.next = next\n"
   ]
  },
  {
   "cell_type": "code",
   "execution_count": 29,
   "metadata": {},
   "outputs": [],
   "source": [
    "head = ListNode(6)\n",
    "next_node = ListNode(12)\n",
    "head.next = next_node\n"
   ]
  },
  {
   "cell_type": "code",
   "execution_count": 30,
   "metadata": {},
   "outputs": [
    {
     "data": {
      "text/plain": [
       "<__main__.ListNode at 0x2306868be80>"
      ]
     },
     "execution_count": 30,
     "metadata": {},
     "output_type": "execute_result"
    }
   ],
   "source": [
    "head"
   ]
  },
  {
   "cell_type": "code",
   "execution_count": null,
   "metadata": {},
   "outputs": [],
   "source": [
    "# Definition for singly-linked list.\n",
    "# class ListNode:\n",
    "#     def __init__(self, val=0, next=None):\n",
    "#         self.val = val\n",
    "#         self.next = next\n",
    "class Solution:\n",
    "    def isPalindrome(self, head: ListNode) -> bool:\n",
    "        q : List =[]\n",
    "        # q: Deque =collections.deque()\n",
    "        if not head :\n",
    "            return True\n",
    "        node = head\n",
    "        \n",
    "        while node is not None :\n",
    "            q.append(node.val)\n",
    "            node = node.next\n",
    "            \n",
    "        while len(q) >1:\n",
    "            if q.pop(0) != q.pop():\n",
    "                return False\n",
    "            \n",
    "        return True\n",
    "    \n",
    "            "
   ]
  },
  {
   "cell_type": "markdown",
   "metadata": {},
   "source": [
    "## Q14. 두 정렬 리스트의 병합\n",
    "\n",
    "## Leetcode 21. Merge Two Sorted Lists\n",
    "\n",
    "Merge two sorted linked lists and return it as a new sorted list. The new list should be made by splicing together the nodes of the first two lists.\n",
    "\n",
    "Example:\n",
    "\n",
    "    Input: 1->2->4, 1->3->4\n",
    "    Output: 1->1->2->3->4->4"
   ]
  },
  {
   "cell_type": "code",
   "execution_count": null,
   "metadata": {},
   "outputs": [],
   "source": [
    "# Definition for singly-linked list.\n",
    "# class ListNode:\n",
    "#     def __init__(self, val=0, next=None):\n",
    "#         self.val = val\n",
    "#         self.next = next\n",
    "class Solution:\n",
    "    def mergeTwoLists(self, l1: ListNode, l2: ListNode) -> ListNode:\n",
    "        \n",
    "        if (not l1) or (l2 and l1.val > l2.val):\n",
    "            l1,l2 = l2,l1\n",
    "            \n",
    "        if l1:\n",
    "            l1.next = self.mergeTwoLists(l1.next,12)\n",
    "        return l1\n",
    "## 모르겟어.."
   ]
  },
  {
   "cell_type": "markdown",
   "metadata": {},
   "source": [
    "## Q15. 역순 연결 리스트\n",
    "\n",
    "## Leetcode 206. Reverse Linked List\n",
    "\n",
    "\n",
    "\n",
    "\n",
    "### Reverse a singly linked list.\n",
    "\n",
    "\n",
    "Example:\n",
    "\n",
    "    Input: 1->2->3->4->5->NULL\n",
    "    Output: 5->4->3->2->1->NULL\n",
    "\n",
    "Follow up:\n",
    "\n",
    "A linked list can be reversed either iteratively or recursively. Could you implement both?"
   ]
  },
  {
   "cell_type": "code",
   "execution_count": null,
   "metadata": {},
   "outputs": [],
   "source": [
    "## 재귀구조로 뒤집기\n",
    "\n",
    "# Definition for singly-linked list.\n",
    "# class ListNode:\n",
    "#     def __init__(self, val=0, next=None):\n",
    "#         self.val = val\n",
    "#         self.next = next\n",
    "class Solution:\n",
    "    def reverseList(self, head: ListNode) -> ListNode:\n",
    "        def reverse(node : ListNode, prev :ListNode = None):\n",
    "            if not node :\n",
    "                return prev \n",
    "            next, node.next = node.next, prev \n",
    "            return reverse(next,node)\n",
    "\n",
    "        return reverse(head)"
   ]
  },
  {
   "cell_type": "code",
   "execution_count": 4,
   "metadata": {},
   "outputs": [],
   "source": [
    "## 반복구조로 뒤집기\n",
    "\n",
    "# Definition for singly-linked list.\n",
    "# class ListNode:\n",
    "#     def __init__(self, val=0, next=None):\n",
    "#         self.val = val\n",
    "#         self.next = next\n",
    "class Solution:\n",
    "    def reverseList(self, head: ListNode) -> ListNode:\n",
    "        node, prev = head, None\n",
    "        \n",
    "        while node:\n",
    "            next, node.next = node.next, prev\n",
    "            prev, node= node,next\n",
    "            \n",
    "        return prev\n",
    "\n"
   ]
  },
  {
   "cell_type": "markdown",
   "metadata": {},
   "source": [
    "## Q16. 두수의 덧셈\n",
    "\n",
    "## Leetcode 2. Add Two Numbers\n",
    "\n",
    "\n",
    "### You are given two non-empty linked lists representing two non-negative integers. The digits are stored in reverse order and each of their nodes contain a single digit. Add the two numbers and return it as a linked list.\n",
    "\n",
    "### You may assume the two numbers do not contain any leading zero, except the number 0 itself.\n",
    "\n",
    "\n",
    "Example:\n",
    "\n",
    "    Input: (2 -> 4 -> 3) + (5 -> 6 -> 4)\n",
    "    Output: 7 -> 0 -> 8\n",
    "    \n",
    "    Explanation: 342 + 465 = 807."
   ]
  },
  {
   "cell_type": "code",
   "execution_count": 5,
   "metadata": {},
   "outputs": [],
   "source": [
    "# Definition for singly-linked list.\n",
    "# class ListNode:\n",
    "#     def __init__(self, val=0, next=None):\n",
    "#         self.val = val\n",
    "#         self.next = next\n",
    "class Solution:\n",
    "    def addTwoNumbers(self, l1: ListNode, l2: ListNode) -> ListNode:\n",
    "        root = head = ListNode(0)\n",
    "        carry = 0\n",
    "        while l1 or l2 or carry :\n",
    "            sum =0\n",
    "            if l1 :\n",
    "                sum += l1.val\n",
    "                l1 = l1.next\n",
    "            if l2 :\n",
    "                sum+= l2.val\n",
    "                l2 = l2.next\n",
    "                \n",
    "            carry , val = divmod(sum + carry, 10)\n",
    "            head.next = ListNode(val)\n",
    "            head = head.next\n",
    "            \n",
    "        return root.next\n",
    "    "
   ]
  },
  {
   "cell_type": "markdown",
   "metadata": {},
   "source": [
    "## Q17. 페어의 노드 스왑 \n",
    "\n",
    "## Leetcode 24. Swap Nodes in Pairs\n",
    "\n",
    "### Given a linked list, swap every two adjacent nodes and return its head.\n",
    "\n",
    "\n",
    "### You may not modify the values in the list's nodes, only nodes itself may be changed.\n",
    "\n",
    "\n",
    "Example:\n",
    "\n",
    "    Given 1->2->3->4, you should return the list as 2->1->4->3."
   ]
  },
  {
   "cell_type": "code",
   "execution_count": 6,
   "metadata": {},
   "outputs": [],
   "source": [
    "# Definition for singly-linked list.\n",
    "# class ListNode:\n",
    "#     def __init__(self, val=0, next=None):\n",
    "#         self.val = val\n",
    "#         self.next = next\n",
    "class Solution:\n",
    "    def swapPairs(self, head: ListNode) -> ListNode:\n",
    "        cur = head \n",
    "        while cur and cur.next :\n",
    "            \n",
    "            cur.val, cur.next.val = cur.next.val, cur.val\n",
    "            cur = cur.next.next\n",
    "            \n",
    "        return head"
   ]
  },
  {
   "cell_type": "code",
   "execution_count": null,
   "metadata": {},
   "outputs": [],
   "source": []
  },
  {
   "cell_type": "markdown",
   "metadata": {},
   "source": [
    "## Q18. 홀짝 연결 리스트\n",
    "\n",
    "## Leetcode 328. Odd Even Linked List \n",
    "\n",
    "### Given a singly linked list, group all odd nodes together followed by the even nodes. Please note here we are talking about the node number and not the value in the nodes.\n",
    "\n",
    "### You should try to do it in place. The program should run in O(1) space complexity and O(nodes) time complexity.\n",
    "\n",
    "Example 1:\n",
    "\n",
    "    Input: 1->2->3->4->5->NULL\n",
    "    Output: 1->3->5->2->4->NULL\n",
    "\n",
    "Example 2:\n",
    "\n",
    "    Input: 2->1->3->5->6->4->7->NULL\n",
    "    Output: 2->3->6->7->1->5->4->NULL\n",
    " \n",
    "\n",
    "Constraints:\n",
    "\n",
    "* The relative order inside both the even and odd groups should remain as it was in the input.\n",
    "* The first node is considered odd, the second node even and so on ...\n",
    "* The length of the linked list is between [0, 10^4]."
   ]
  },
  {
   "cell_type": "code",
   "execution_count": 15,
   "metadata": {},
   "outputs": [],
   "source": [
    "# Definition for singly-linked list.\n",
    "# class ListNode:\n",
    "#     def __init__(self, val=0, next=None):\n",
    "#         self.val = val\n",
    "#         self.next = next\n",
    "class Solution:\n",
    "    def oddEvenList(self, head: ListNode) -> ListNode:\n",
    "        if head is None :\n",
    "            return None \n",
    "        \n",
    "        odd = head\n",
    "        even = head.next\n",
    "        \n",
    "        even_head = head.next \n",
    "        \n",
    "        while even and even.next :\n",
    "            odd.next, even.next = odd.next.next, even.next.next\n",
    "            odd, even = odd.next,even.next\n",
    "            \n",
    "        odd.next = even_head\n",
    "        return head"
   ]
  },
  {
   "cell_type": "markdown",
   "metadata": {},
   "source": [
    "## Q19. 역순 연결 리스트 2\n",
    "\n",
    "## Leetcode 92. Reverse Linked List 2\n",
    "\n",
    "### Reverse a linked list from position m to n. Do it in one-pass.\n",
    "\n",
    "#### Note: 1 ≤ m ≤ n ≤ length of list.\n",
    "\n",
    "Example:\n",
    "\n",
    "    Input: 1->2->3->4->5->NULL, m = 2, n = 4\n",
    "    Output: 1->4->3->2->5->NULL"
   ]
  },
  {
   "cell_type": "code",
   "execution_count": 16,
   "metadata": {},
   "outputs": [],
   "source": [
    "# Definition for singly-linked list.\n",
    "# class ListNode:\n",
    "#     def __init__(self, val=0, next=None):\n",
    "#         self.val = val\n",
    "#         self.next = next\n",
    "class Solution:\n",
    "    def reverseBetween(self, head: ListNode, m: int, n: int) -> ListNode:\n",
    "        if not head or m==n:\n",
    "            return head\n",
    "        \n",
    "        root = start = ListNode(None)\n",
    "        root.next = head\n",
    "        \n",
    "        for _ in range(m-1) :\n",
    "            start = start.next\n",
    "        end = start.next\n",
    "        \n",
    "        for _ in range(n-m):\n",
    "            tmp, start.next, end.next = start.next, end.next,end.next.next\n",
    "            start.next.next = tmp\n",
    "        return root.next\n",
    "    \n",
    "        "
   ]
  },
  {
   "cell_type": "code",
   "execution_count": 17,
   "metadata": {},
   "outputs": [],
   "source": [
    "a,b =1,2"
   ]
  },
  {
   "cell_type": "code",
   "execution_count": 18,
   "metadata": {},
   "outputs": [],
   "source": [
    "a,b= b,a"
   ]
  },
  {
   "cell_type": "code",
   "execution_count": 19,
   "metadata": {},
   "outputs": [
    {
     "data": {
      "text/plain": [
       "2"
      ]
     },
     "execution_count": 19,
     "metadata": {},
     "output_type": "execute_result"
    }
   ],
   "source": [
    "a"
   ]
  },
  {
   "cell_type": "code",
   "execution_count": 20,
   "metadata": {},
   "outputs": [
    {
     "data": {
      "text/plain": [
       "1"
      ]
     },
     "execution_count": 20,
     "metadata": {},
     "output_type": "execute_result"
    }
   ],
   "source": [
    "b"
   ]
  },
  {
   "cell_type": "code",
   "execution_count": null,
   "metadata": {},
   "outputs": [],
   "source": []
  }
 ],
 "metadata": {
  "kernelspec": {
   "display_name": "ku",
   "language": "python",
   "name": "ku"
  },
  "language_info": {
   "codemirror_mode": {
    "name": "ipython",
    "version": 3
   },
   "file_extension": ".py",
   "mimetype": "text/x-python",
   "name": "python",
   "nbconvert_exporter": "python",
   "pygments_lexer": "ipython3",
   "version": "3.7.2"
  }
 },
 "nbformat": 4,
 "nbformat_minor": 2
}
