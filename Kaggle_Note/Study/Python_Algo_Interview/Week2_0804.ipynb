{
 "cells": [
  {
   "cell_type": "markdown",
   "metadata": {},
   "source": [
    "# 7장 배열\n",
    "\n",
    "## Q7 두수의 합\n",
    "\n",
    "## Leetcode 1. Two Sum\n",
    "\n",
    "Given an array of integers, return indices of the two numbers such that they add up to a specific target.\n",
    "\n",
    "You may assume that each input would have exactly one solution, and you may not use the same element twice.\n",
    "\n",
    "Example:\n",
    "\n",
    "    Given nums = [2, 7, 11, 15], target = 9,\n",
    "\n",
    "    Because nums[0] + nums[1] = 2 + 7 = 9,\n",
    "    return [0, 1].\n"
   ]
  },
  {
   "cell_type": "code",
   "execution_count": 13,
   "metadata": {},
   "outputs": [],
   "source": [
    "def twoSum(nums, target):\n",
    "    for i in range(len(nums)):\n",
    "        for j in range(i+1,len(nums)):\n",
    "            if nums[i]+nums[j]== target :\n",
    "                return [i,j]"
   ]
  },
  {
   "cell_type": "code",
   "execution_count": 14,
   "metadata": {},
   "outputs": [],
   "source": [
    "nums = [2, 7, 11, 15] \n",
    "target = 9"
   ]
  },
  {
   "cell_type": "code",
   "execution_count": 15,
   "metadata": {},
   "outputs": [
    {
     "data": {
      "text/plain": [
       "[0, 1]"
      ]
     },
     "execution_count": 15,
     "metadata": {},
     "output_type": "execute_result"
    }
   ],
   "source": [
    "twoSum(nums,target)"
   ]
  },
  {
   "cell_type": "markdown",
   "metadata": {},
   "source": [
    "### 개선된 방법\n",
    "\n",
    "in을 이용한 탐색"
   ]
  },
  {
   "cell_type": "code",
   "execution_count": 19,
   "metadata": {},
   "outputs": [],
   "source": [
    "def twoSum(nums, target):\n",
    "    for i,n in enumerate(nums):\n",
    "        minus = target - n\n",
    "        \n",
    "        if minus in nums[i+1:]:\n",
    "            return nums.index(n), nums[i+1:].index(minus) +i+1"
   ]
  },
  {
   "cell_type": "code",
   "execution_count": 20,
   "metadata": {},
   "outputs": [
    {
     "data": {
      "text/plain": [
       "(0, 1)"
      ]
     },
     "execution_count": 20,
     "metadata": {},
     "output_type": "execute_result"
    }
   ],
   "source": [
    "twoSum(nums,target)"
   ]
  },
  {
   "cell_type": "markdown",
   "metadata": {},
   "source": [
    "## Q8 빗물 트래핑\n",
    "\n",
    "## Leetcode 42. Trapping Rain Water\n",
    "\n",
    "Given n non-negative integers representing an elevation map where the width of each bar is 1, compute how much water it is able to trap after raining."
   ]
  },
  {
   "cell_type": "code",
   "execution_count": null,
   "metadata": {},
   "outputs": [],
   "source": [
    "class Solution:\n",
    "    def trap(self, height: List[int]) -> int:\n",
    "        for i in range(len(height)):\n",
    "            if height[i]:\n",
    "                for j in range(len(height[i+1:])):\n",
    "                    "
   ]
  },
  {
   "cell_type": "code",
   "execution_count": null,
   "metadata": {},
   "outputs": [],
   "source": []
  },
  {
   "cell_type": "markdown",
   "metadata": {},
   "source": [
    "## Q9 세수의 합\n",
    "\n",
    "## Leetcode 15. 3Sum\n",
    "\n",
    "Given an array nums of n integers, are there elements a, b, c in nums such that a + b + c = 0? Find all unique triplets in the array which gives the sum of zero.\n",
    "\n",
    "Note:\n",
    "\n",
    "The solution set must not contain duplicate triplets.\n",
    "\n",
    "Example:\n",
    "\n",
    "    Given array nums = [-1, 0, 1, 2, -1, -4],\n",
    "\n",
    "    A solution set is:\n",
    "    [\n",
    "      [-1, 0, 1],\n",
    "      [-1, -1, 2]\n",
    "    ]\n"
   ]
  },
  {
   "cell_type": "code",
   "execution_count": null,
   "metadata": {},
   "outputs": [],
   "source": [
    "class Solution:\n",
    "    def threeSum(self, nums: List[int]) -> List[List[int]]:\n",
    "        s=[]\n",
    "        nums.sort()\n",
    "        for i in range(len(nums)):\n",
    "            for j in range(len(nums[i+1:])):\n",
    "                for k in range(len(nums[i+j+2:])):\n",
    "                    if nums[i]+nums[i+j+1]+nums[i+j+k+2] ==0:\n",
    "                        s.append([nums[i],nums[i+j+1],nums[i+j+k+2]])\n",
    "        return s\n",
    "## 중복된값 고려 못함"
   ]
  },
  {
   "cell_type": "code",
   "execution_count": null,
   "metadata": {},
   "outputs": [],
   "source": []
  },
  {
   "cell_type": "code",
   "execution_count": null,
   "metadata": {},
   "outputs": [],
   "source": []
  },
  {
   "cell_type": "markdown",
   "metadata": {},
   "source": [
    "## Q10 배열 파티션 1 \n",
    "\n",
    "## Leetcode 561. Array Partition 1\n",
    "\n",
    "Given an array of 2n integers, your task is to group these integers into n pairs of integer, say (a1, b1), (a2, b2), ..., (an, bn) which makes sum of min(ai, bi) for all i from 1 to n as large as possible."
   ]
  },
  {
   "cell_type": "code",
   "execution_count": null,
   "metadata": {},
   "outputs": [],
   "source": [
    "class Solution:\n",
    "    def arrayPairSum(self, nums: List[int]) -> int:\n",
    "        nums.sort()\n",
    "        Sum=0\n",
    "        for i in range(len(nums)//2):\n",
    "            Sum += nums[2*i]\n",
    "        return Sum\n",
    "        "
   ]
  },
  {
   "cell_type": "code",
   "execution_count": null,
   "metadata": {},
   "outputs": [],
   "source": []
  },
  {
   "cell_type": "code",
   "execution_count": null,
   "metadata": {},
   "outputs": [],
   "source": []
  },
  {
   "cell_type": "markdown",
   "metadata": {},
   "source": [
    "## Q11 자신을 제외한 배열의 곱\n",
    "\n",
    "## Leetcode 238. Product of Array Except Self\n",
    "\n",
    "\n",
    "Given an array nums of n integers where n > 1,  return an array output such that output[i] is equal to the product of all the elements of nums except nums[i].\n",
    "\n",
    "Example:\n",
    "\n",
    "    Input:  [1,2,3,4]\n",
    "    Output: [24,12,8,6]\n",
    "    Constraint: It's guaranteed that the product of the elements of any prefix or suffix of the array (including the whole array) fits in a 32 bit integer.\n",
    "\n",
    "__Note__: Please solve it without division and in O(n).\n"
   ]
  },
  {
   "cell_type": "code",
   "execution_count": 40,
   "metadata": {},
   "outputs": [],
   "source": [
    "nums = [1,2,3,4]\n",
    "out =[1,1,1,1]"
   ]
  },
  {
   "cell_type": "code",
   "execution_count": 48,
   "metadata": {},
   "outputs": [
    {
     "data": {
      "text/plain": [
       "range(4, 0)"
      ]
     },
     "execution_count": 48,
     "metadata": {},
     "output_type": "execute_result"
    }
   ],
   "source": [
    "range(4,0)"
   ]
  },
  {
   "cell_type": "code",
   "execution_count": 53,
   "metadata": {},
   "outputs": [],
   "source": [
    "for i in range(len(nums)-1,0,-1):\n",
    "    for j in range(len(nums[:i]),0,-1):\n",
    "        out[i] *=nums[j]\n",
    "       "
   ]
  },
  {
   "cell_type": "code",
   "execution_count": 51,
   "metadata": {},
   "outputs": [
    {
     "name": "stdout",
     "output_type": "stream",
     "text": [
      "4\n",
      "3\n",
      "2\n",
      "1\n"
     ]
    }
   ],
   "source": [
    "for i in range(len(nums),0,-1):\n",
    "    print(i)"
   ]
  },
  {
   "cell_type": "code",
   "execution_count": 3,
   "metadata": {},
   "outputs": [],
   "source": [
    "def productExceptSelf(nums) :\n",
    "    out = []\n",
    "    p=1\n",
    "    for i in range(len(nums)):\n",
    "        out.append(p)\n",
    "        for j in range(len(nums[i+1:])):\n",
    "            out[i] *=nums[j+i+1]\n",
    "                \n",
    "    for i in range(len(nums)-1,0,-1):\n",
    "        for j in range(len(nums[:i-1]),-1,-1):\n",
    "            out[i] *=nums[j]\n",
    "    return out\n",
    "                           \n",
    "    "
   ]
  },
  {
   "cell_type": "markdown",
   "metadata": {},
   "source": [
    "## Q12 주식을 사고팔기 가장 좋은 시점\n",
    "\n",
    "## Leetcode 121. Best Tume to Buy and Sell Stock\n",
    "\n",
    "Say you have an array for which the ith element is the price of a given stock on day i.\n",
    "\n",
    "If you were only permitted to complete at most one transaction (i.e., buy one and sell one share of the stock), design an algorithm to find the maximum profit.\n",
    "\n",
    "Note that you cannot sell a stock before you buy one.\n",
    "\n",
    "Example 1:\n",
    "\n",
    "    Input: [7,1,5,3,6,4]\n",
    "    Output: 5\n",
    "    Explanation: Buy on day 2 (price = 1) and sell on day 5 (price = 6), profit = 6-1 = 5.\n",
    "                 Not 7-1 = 6, as selling price needs to be larger than buying price.\n",
    "\n",
    "Example 2:\n",
    "\n",
    "    Input: [7,6,4,3,1]\n",
    "    Output: 0\n",
    "    Explanation: In this case, no transaction is done, i.e. max profit = 0."
   ]
  },
  {
   "cell_type": "code",
   "execution_count": 1,
   "metadata": {},
   "outputs": [],
   "source": [
    "def maxProfit(prices) -> int:\n",
    "    maxp = 0\n",
    "        \n",
    "    for i,price in enumerate(prices):\n",
    "        for j in range(i,len(prices)):\n",
    "            maxp=max(prices[j]-price, maxp)\n",
    "    return maxp"
   ]
  },
  {
   "cell_type": "code",
   "execution_count": 2,
   "metadata": {},
   "outputs": [
    {
     "data": {
      "text/plain": [
       "5"
      ]
     },
     "execution_count": 2,
     "metadata": {},
     "output_type": "execute_result"
    }
   ],
   "source": [
    "pr = [7,1,5,3,6,4]\n",
    "maxProfit(pr)"
   ]
  },
  {
   "cell_type": "markdown",
   "metadata": {},
   "source": [
    "## 268. Missing Number"
   ]
  },
  {
   "cell_type": "code",
   "execution_count": 4,
   "metadata": {},
   "outputs": [],
   "source": [
    "nums = [9,6,4,2,3,5,7,0,1]"
   ]
  },
  {
   "cell_type": "code",
   "execution_count": 6,
   "metadata": {},
   "outputs": [],
   "source": [
    "nums.sort()"
   ]
  },
  {
   "cell_type": "code",
   "execution_count": 7,
   "metadata": {},
   "outputs": [
    {
     "data": {
      "text/plain": [
       "[0, 1, 2, 3, 4, 5, 6, 7, 9]"
      ]
     },
     "execution_count": 7,
     "metadata": {},
     "output_type": "execute_result"
    }
   ],
   "source": [
    "nums"
   ]
  },
  {
   "cell_type": "code",
   "execution_count": 8,
   "metadata": {},
   "outputs": [
    {
     "data": {
      "text/plain": [
       "9"
      ]
     },
     "execution_count": 8,
     "metadata": {},
     "output_type": "execute_result"
    }
   ],
   "source": [
    "len(nums)"
   ]
  },
  {
   "cell_type": "code",
   "execution_count": 9,
   "metadata": {},
   "outputs": [
    {
     "data": {
      "text/plain": [
       "range(0, 9)"
      ]
     },
     "execution_count": 9,
     "metadata": {},
     "output_type": "execute_result"
    }
   ],
   "source": [
    "range(len(nums))"
   ]
  },
  {
   "cell_type": "code",
   "execution_count": 16,
   "metadata": {},
   "outputs": [],
   "source": [
    "def missingNumber(nums) :\n",
    "    nums.sort()\n",
    "    if len(nums)==1:\n",
    "        if nums[0] :\n",
    "            return 0\n",
    "        else :\n",
    "            return 1\n",
    "    else:\n",
    "        for i in range(len(nums)):\n",
    "            if i != nums[i]:\n",
    "                return i\n",
    "        return i+1"
   ]
  },
  {
   "cell_type": "code",
   "execution_count": 17,
   "metadata": {},
   "outputs": [
    {
     "data": {
      "text/plain": [
       "8"
      ]
     },
     "execution_count": 17,
     "metadata": {},
     "output_type": "execute_result"
    }
   ],
   "source": [
    "missingNumber(nums)"
   ]
  },
  {
   "cell_type": "code",
   "execution_count": 18,
   "metadata": {},
   "outputs": [],
   "source": [
    "nn =[1,2,3,4,5,6,7,8]"
   ]
  },
  {
   "cell_type": "code",
   "execution_count": 19,
   "metadata": {},
   "outputs": [
    {
     "data": {
      "text/plain": [
       "0"
      ]
     },
     "execution_count": 19,
     "metadata": {},
     "output_type": "execute_result"
    }
   ],
   "source": [
    "missingNumber(nn)"
   ]
  },
  {
   "cell_type": "code",
   "execution_count": 21,
   "metadata": {},
   "outputs": [],
   "source": [
    "def missingNumber2(nums):\n",
    "    nums.sort()\n",
    "    for i in range(len(nums)+1):\n",
    "        if i not in nums :\n",
    "            return i"
   ]
  },
  {
   "cell_type": "code",
   "execution_count": 23,
   "metadata": {},
   "outputs": [
    {
     "data": {
      "text/plain": [
       "8"
      ]
     },
     "execution_count": 23,
     "metadata": {},
     "output_type": "execute_result"
    }
   ],
   "source": [
    "missingNumber2(nums)"
   ]
  },
  {
   "cell_type": "code",
   "execution_count": null,
   "metadata": {},
   "outputs": [],
   "source": []
  }
 ],
 "metadata": {
  "kernelspec": {
   "display_name": "ku",
   "language": "python",
   "name": "ku"
  },
  "language_info": {
   "codemirror_mode": {
    "name": "ipython",
    "version": 3
   },
   "file_extension": ".py",
   "mimetype": "text/x-python",
   "name": "python",
   "nbconvert_exporter": "python",
   "pygments_lexer": "ipython3",
   "version": "3.7.2"
  }
 },
 "nbformat": 4,
 "nbformat_minor": 2
}
